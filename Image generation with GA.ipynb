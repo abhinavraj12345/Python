{
 "cells": [
  {
   "cell_type": "code",
   "execution_count": 1,
   "metadata": {},
   "outputs": [],
   "source": [
    "from matplotlib.pyplot import imshow\n",
    "import numpy as np\n",
    "import cv2\n",
    "from PIL import Image"
   ]
  },
  {
   "cell_type": "code",
   "execution_count": 2,
   "metadata": {},
   "outputs": [
    {
     "data": {
      "text/plain": [
       "'4.1.0'"
      ]
     },
     "execution_count": 2,
     "metadata": {},
     "output_type": "execute_result"
    }
   ],
   "source": [
    "cv2.__version__"
   ]
  },
  {
   "cell_type": "code",
   "execution_count": 3,
   "metadata": {},
   "outputs": [
    {
     "data": {
      "text/plain": [
       "<matplotlib.image.AxesImage at 0x16b87c3d6d8>"
      ]
     },
     "execution_count": 3,
     "metadata": {},
     "output_type": "execute_result"
    },
    {
     "data": {
      "image/png": "[encoded data removed]",
      "text/plain": [
       "<Figure size 432x288 with 1 Axes>"
      ]
     },
     "metadata": {
      "needs_background": "light"
     },
     "output_type": "display_data"
    }
   ],
   "source": [
    "i=cv2.imread('C:\\\\Users\\\\Abhinav Raj\\\\Downloads\\\\bcam (1).jpg')\n",
    "i=cv2.cvtColor(i,cv2.COLOR_BGR2GRAY)\n",
    "imshow(i,cmap=\"gray\")"
   ]
  },
  {
   "cell_type": "code",
   "execution_count": 57,
   "metadata": {},
   "outputs": [
    {
     "data": {
      "text/plain": [
       "(100, 100)"
      ]
     },
     "execution_count": 57,
     "metadata": {},
     "output_type": "execute_result"
    }
   ],
   "source": [
    "i_size=i.shape\n",
    "i_size"
   ]
  },
  {
   "cell_type": "code",
   "execution_count": 58,
   "metadata": {},
   "outputs": [],
   "source": [
    "T=i.flatten()"
   ]
  },
  {
   "cell_type": "code",
   "execution_count": 59,
   "metadata": {},
   "outputs": [
    {
     "data": {
      "text/plain": [
       "10000"
      ]
     },
     "execution_count": 59,
     "metadata": {},
     "output_type": "execute_result"
    }
   ],
   "source": [
    "len(T)"
   ]
  },
  {
   "cell_type": "code",
   "execution_count": 60,
   "metadata": {},
   "outputs": [],
   "source": [
    "pop=10\n",
    "iteration=500000\n",
    "bits=len(T)*8"
   ]
  },
  {
   "cell_type": "code",
   "execution_count": 61,
   "metadata": {},
   "outputs": [],
   "source": [
    "def bit2num(x):\n",
    "    return (int(\"\".join(map(str,x)),2))"
   ]
  },
  {
   "cell_type": "code",
   "execution_count": 62,
   "metadata": {},
   "outputs": [],
   "source": [
    "def fun(a,T):\n",
    "    kk=[]\n",
    "    for i in range(int(len(a)/8)):\n",
    "        kk.append(bit2num(a[i*8:(i*8)+8]))\n",
    "    return(sum((kk-T)**2))"
   ]
  },
  {
   "cell_type": "code",
   "execution_count": 63,
   "metadata": {},
   "outputs": [],
   "source": [
    "ini_pop=[]\n",
    "for i in range(pop):\n",
    "    ini_pop.append(np.random.choice([0,1], size=bits).tolist())"
   ]
  },
  {
   "cell_type": "code",
   "execution_count": null,
   "metadata": {},
   "outputs": [],
   "source": []
  },
  {
   "cell_type": "code",
   "execution_count": null,
   "metadata": {},
   "outputs": [
    {
     "name": "stdout",
     "output_type": "stream",
     "text": [
      "C:\\Users\\Abhinav Raj\\Downloads\\Projects\\Images\\0.png\n",
      "C:\\Users\\Abhinav Raj\\Downloads\\Projects\\Images\\1.png\n",
      "C:\\Users\\Abhinav Raj\\Downloads\\Projects\\Images\\2.png\n",
      "C:\\Users\\Abhinav Raj\\Downloads\\Projects\\Images\\3.png\n",
      "C:\\Users\\Abhinav Raj\\Downloads\\Projects\\Images\\4.png\n",
      "C:\\Users\\Abhinav Raj\\Downloads\\Projects\\Images\\5.png\n",
      "C:\\Users\\Abhinav Raj\\Downloads\\Projects\\Images\\6.png\n",
      "C:\\Users\\Abhinav Raj\\Downloads\\Projects\\Images\\7.png\n",
      "C:\\Users\\Abhinav Raj\\Downloads\\Projects\\Images\\8.png\n",
      "C:\\Users\\Abhinav Raj\\Downloads\\Projects\\Images\\9.png\n",
      "C:\\Users\\Abhinav Raj\\Downloads\\Projects\\Images\\10.png\n",
      "C:\\Users\\Abhinav Raj\\Downloads\\Projects\\Images\\11.png\n",
      "C:\\Users\\Abhinav Raj\\Downloads\\Projects\\Images\\12.png\n",
      "C:\\Users\\Abhinav Raj\\Downloads\\Projects\\Images\\13.png\n",
      "C:\\Users\\Abhinav Raj\\Downloads\\Projects\\Images\\14.png\n",
      "C:\\Users\\Abhinav Raj\\Downloads\\Projects\\Images\\15.png\n",
      "C:\\Users\\Abhinav Raj\\Downloads\\Projects\\Images\\16.png\n",
      "C:\\Users\\Abhinav Raj\\Downloads\\Projects\\Images\\17.png\n",
      "C:\\Users\\Abhinav Raj\\Downloads\\Projects\\Images\\18.png\n",
      "C:\\Users\\Abhinav Raj\\Downloads\\Projects\\Images\\19.png\n",
      "C:\\Users\\Abhinav Raj\\Downloads\\Projects\\Images\\20.png\n",
      "C:\\Users\\Abhinav Raj\\Downloads\\Projects\\Images\\21.png\n",
      "C:\\Users\\Abhinav Raj\\Downloads\\Projects\\Images\\22.png\n",
      "C:\\Users\\Abhinav Raj\\Downloads\\Projects\\Images\\23.png\n",
      "C:\\Users\\Abhinav Raj\\Downloads\\Projects\\Images\\24.png\n",
      "C:\\Users\\Abhinav Raj\\Downloads\\Projects\\Images\\25.png\n",
      "C:\\Users\\Abhinav Raj\\Downloads\\Projects\\Images\\26.png\n",
      "C:\\Users\\Abhinav Raj\\Downloads\\Projects\\Images\\27.png\n",
      "C:\\Users\\Abhinav Raj\\Downloads\\Projects\\Images\\28.png\n",
      "C:\\Users\\Abhinav Raj\\Downloads\\Projects\\Images\\29.png\n",
      "C:\\Users\\Abhinav Raj\\Downloads\\Projects\\Images\\30.png\n",
      "C:\\Users\\Abhinav Raj\\Downloads\\Projects\\Images\\31.png\n",
      "C:\\Users\\Abhinav Raj\\Downloads\\Projects\\Images\\32.png\n",
      "C:\\Users\\Abhinav Raj\\Downloads\\Projects\\Images\\33.png\n",
      "C:\\Users\\Abhinav Raj\\Downloads\\Projects\\Images\\34.png\n",
      "C:\\Users\\Abhinav Raj\\Downloads\\Projects\\Images\\35.png\n",
      "C:\\Users\\Abhinav Raj\\Downloads\\Projects\\Images\\36.png\n",
      "C:\\Users\\Abhinav Raj\\Downloads\\Projects\\Images\\37.png\n",
      "C:\\Users\\Abhinav Raj\\Downloads\\Projects\\Images\\38.png\n",
      "C:\\Users\\Abhinav Raj\\Downloads\\Projects\\Images\\39.png\n",
      "C:\\Users\\Abhinav Raj\\Downloads\\Projects\\Images\\40.png\n",
      "C:\\Users\\Abhinav Raj\\Downloads\\Projects\\Images\\41.png\n",
      "C:\\Users\\Abhinav Raj\\Downloads\\Projects\\Images\\42.png\n",
      "C:\\Users\\Abhinav Raj\\Downloads\\Projects\\Images\\43.png\n",
      "C:\\Users\\Abhinav Raj\\Downloads\\Projects\\Images\\44.png\n",
      "C:\\Users\\Abhinav Raj\\Downloads\\Projects\\Images\\45.png\n",
      "C:\\Users\\Abhinav Raj\\Downloads\\Projects\\Images\\46.png\n",
      "C:\\Users\\Abhinav Raj\\Downloads\\Projects\\Images\\47.png\n",
      "C:\\Users\\Abhinav Raj\\Downloads\\Projects\\Images\\48.png\n",
      "C:\\Users\\Abhinav Raj\\Downloads\\Projects\\Images\\49.png\n",
      "C:\\Users\\Abhinav Raj\\Downloads\\Projects\\Images\\50.png\n",
      "C:\\Users\\Abhinav Raj\\Downloads\\Projects\\Images\\51.png\n",
      "C:\\Users\\Abhinav Raj\\Downloads\\Projects\\Images\\52.png\n",
      "C:\\Users\\Abhinav Raj\\Downloads\\Projects\\Images\\53.png\n",
      "C:\\Users\\Abhinav Raj\\Downloads\\Projects\\Images\\54.png\n",
      "C:\\Users\\Abhinav Raj\\Downloads\\Projects\\Images\\55.png\n",
      "C:\\Users\\Abhinav Raj\\Downloads\\Projects\\Images\\56.png\n",
      "C:\\Users\\Abhinav Raj\\Downloads\\Projects\\Images\\57.png\n",
      "C:\\Users\\Abhinav Raj\\Downloads\\Projects\\Images\\58.png\n",
      "C:\\Users\\Abhinav Raj\\Downloads\\Projects\\Images\\59.png\n",
      "C:\\Users\\Abhinav Raj\\Downloads\\Projects\\Images\\60.png\n",
      "C:\\Users\\Abhinav Raj\\Downloads\\Projects\\Images\\61.png\n",
      "C:\\Users\\Abhinav Raj\\Downloads\\Projects\\Images\\62.png\n",
      "C:\\Users\\Abhinav Raj\\Downloads\\Projects\\Images\\63.png\n",
      "C:\\Users\\Abhinav Raj\\Downloads\\Projects\\Images\\64.png\n",
      "C:\\Users\\Abhinav Raj\\Downloads\\Projects\\Images\\65.png\n",
      "C:\\Users\\Abhinav Raj\\Downloads\\Projects\\Images\\66.png\n",
      "C:\\Users\\Abhinav Raj\\Downloads\\Projects\\Images\\67.png\n",
      "C:\\Users\\Abhinav Raj\\Downloads\\Projects\\Images\\68.png\n",
      "C:\\Users\\Abhinav Raj\\Downloads\\Projects\\Images\\69.png\n",
      "C:\\Users\\Abhinav Raj\\Downloads\\Projects\\Images\\70.png\n",
      "C:\\Users\\Abhinav Raj\\Downloads\\Projects\\Images\\71.png\n",
      "C:\\Users\\Abhinav Raj\\Downloads\\Projects\\Images\\72.png\n",
      "C:\\Users\\Abhinav Raj\\Downloads\\Projects\\Images\\73.png\n",
      "C:\\Users\\Abhinav Raj\\Downloads\\Projects\\Images\\74.png\n",
      "C:\\Users\\Abhinav Raj\\Downloads\\Projects\\Images\\75.png\n",
      "C:\\Users\\Abhinav Raj\\Downloads\\Projects\\Images\\76.png\n",
      "C:\\Users\\Abhinav Raj\\Downloads\\Projects\\Images\\77.png\n",
      "C:\\Users\\Abhinav Raj\\Downloads\\Projects\\Images\\78.png\n",
      "C:\\Users\\Abhinav Raj\\Downloads\\Projects\\Images\\79.png\n",
      "C:\\Users\\Abhinav Raj\\Downloads\\Projects\\Images\\80.png\n",
      "C:\\Users\\Abhinav Raj\\Downloads\\Projects\\Images\\81.png\n",
      "C:\\Users\\Abhinav Raj\\Downloads\\Projects\\Images\\82.png\n",
      "C:\\Users\\Abhinav Raj\\Downloads\\Projects\\Images\\83.png\n",
      "C:\\Users\\Abhinav Raj\\Downloads\\Projects\\Images\\84.png\n",
      "C:\\Users\\Abhinav Raj\\Downloads\\Projects\\Images\\85.png\n",
      "C:\\Users\\Abhinav Raj\\Downloads\\Projects\\Images\\86.png\n",
      "C:\\Users\\Abhinav Raj\\Downloads\\Projects\\Images\\87.png\n",
      "C:\\Users\\Abhinav Raj\\Downloads\\Projects\\Images\\88.png\n",
      "C:\\Users\\Abhinav Raj\\Downloads\\Projects\\Images\\89.png\n",
      "C:\\Users\\Abhinav Raj\\Downloads\\Projects\\Images\\90.png\n",
      "C:\\Users\\Abhinav Raj\\Downloads\\Projects\\Images\\91.png\n",
      "C:\\Users\\Abhinav Raj\\Downloads\\Projects\\Images\\92.png\n",
      "C:\\Users\\Abhinav Raj\\Downloads\\Projects\\Images\\93.png\n",
      "C:\\Users\\Abhinav Raj\\Downloads\\Projects\\Images\\94.png\n",
      "C:\\Users\\Abhinav Raj\\Downloads\\Projects\\Images\\95.png\n",
      "C:\\Users\\Abhinav Raj\\Downloads\\Projects\\Images\\96.png\n",
      "C:\\Users\\Abhinav Raj\\Downloads\\Projects\\Images\\97.png\n",
      "C:\\Users\\Abhinav Raj\\Downloads\\Projects\\Images\\98.png\n",
      "C:\\Users\\Abhinav Raj\\Downloads\\Projects\\Images\\99.png\n",
      "C:\\Users\\Abhinav Raj\\Downloads\\Projects\\Images\\100.png\n",
      "C:\\Users\\Abhinav Raj\\Downloads\\Projects\\Images\\101.png\n",
      "C:\\Users\\Abhinav Raj\\Downloads\\Projects\\Images\\102.png\n",
      "C:\\Users\\Abhinav Raj\\Downloads\\Projects\\Images\\103.png\n",
      "C:\\Users\\Abhinav Raj\\Downloads\\Projects\\Images\\104.png\n",
      "C:\\Users\\Abhinav Raj\\Downloads\\Projects\\Images\\105.png\n",
      "C:\\Users\\Abhinav Raj\\Downloads\\Projects\\Images\\106.png\n",
      "C:\\Users\\Abhinav Raj\\Downloads\\Projects\\Images\\107.png\n",
      "C:\\Users\\Abhinav Raj\\Downloads\\Projects\\Images\\108.png\n",
      "C:\\Users\\Abhinav Raj\\Downloads\\Projects\\Images\\109.png\n",
      "C:\\Users\\Abhinav Raj\\Downloads\\Projects\\Images\\110.png\n",
      "C:\\Users\\Abhinav Raj\\Downloads\\Projects\\Images\\111.png\n",
      "C:\\Users\\Abhinav Raj\\Downloads\\Projects\\Images\\112.png\n",
      "C:\\Users\\Abhinav Raj\\Downloads\\Projects\\Images\\113.png\n",
      "C:\\Users\\Abhinav Raj\\Downloads\\Projects\\Images\\114.png\n",
      "C:\\Users\\Abhinav Raj\\Downloads\\Projects\\Images\\115.png\n",
      "C:\\Users\\Abhinav Raj\\Downloads\\Projects\\Images\\116.png\n",
      "C:\\Users\\Abhinav Raj\\Downloads\\Projects\\Images\\117.png\n",
      "C:\\Users\\Abhinav Raj\\Downloads\\Projects\\Images\\118.png\n",
      "C:\\Users\\Abhinav Raj\\Downloads\\Projects\\Images\\119.png\n",
      "C:\\Users\\Abhinav Raj\\Downloads\\Projects\\Images\\120.png\n",
      "C:\\Users\\Abhinav Raj\\Downloads\\Projects\\Images\\121.png\n",
      "C:\\Users\\Abhinav Raj\\Downloads\\Projects\\Images\\122.png\n",
      "C:\\Users\\Abhinav Raj\\Downloads\\Projects\\Images\\123.png\n",
      "C:\\Users\\Abhinav Raj\\Downloads\\Projects\\Images\\124.png\n",
      "C:\\Users\\Abhinav Raj\\Downloads\\Projects\\Images\\125.png\n",
      "C:\\Users\\Abhinav Raj\\Downloads\\Projects\\Images\\126.png\n",
      "C:\\Users\\Abhinav Raj\\Downloads\\Projects\\Images\\127.png\n",
      "C:\\Users\\Abhinav Raj\\Downloads\\Projects\\Images\\128.png\n",
      "C:\\Users\\Abhinav Raj\\Downloads\\Projects\\Images\\129.png\n",
      "C:\\Users\\Abhinav Raj\\Downloads\\Projects\\Images\\130.png\n",
      "C:\\Users\\Abhinav Raj\\Downloads\\Projects\\Images\\131.png\n",
      "C:\\Users\\Abhinav Raj\\Downloads\\Projects\\Images\\132.png\n",
      "C:\\Users\\Abhinav Raj\\Downloads\\Projects\\Images\\133.png\n",
      "C:\\Users\\Abhinav Raj\\Downloads\\Projects\\Images\\134.png\n",
      "C:\\Users\\Abhinav Raj\\Downloads\\Projects\\Images\\135.png\n",
      "C:\\Users\\Abhinav Raj\\Downloads\\Projects\\Images\\136.png\n",
      "C:\\Users\\Abhinav Raj\\Downloads\\Projects\\Images\\137.png\n",
      "C:\\Users\\Abhinav Raj\\Downloads\\Projects\\Images\\138.png\n",
      "C:\\Users\\Abhinav Raj\\Downloads\\Projects\\Images\\139.png\n",
      "C:\\Users\\Abhinav Raj\\Downloads\\Projects\\Images\\140.png\n",
      "C:\\Users\\Abhinav Raj\\Downloads\\Projects\\Images\\141.png\n",
      "C:\\Users\\Abhinav Raj\\Downloads\\Projects\\Images\\142.png\n",
      "C:\\Users\\Abhinav Raj\\Downloads\\Projects\\Images\\143.png\n",
      "C:\\Users\\Abhinav Raj\\Downloads\\Projects\\Images\\144.png\n",
      "C:\\Users\\Abhinav Raj\\Downloads\\Projects\\Images\\145.png\n",
      "C:\\Users\\Abhinav Raj\\Downloads\\Projects\\Images\\146.png\n",
      "C:\\Users\\Abhinav Raj\\Downloads\\Projects\\Images\\147.png\n",
      "C:\\Users\\Abhinav Raj\\Downloads\\Projects\\Images\\148.png\n",
      "C:\\Users\\Abhinav Raj\\Downloads\\Projects\\Images\\149.png\n",
      "C:\\Users\\Abhinav Raj\\Downloads\\Projects\\Images\\150.png\n"
     ]
    },
    {
     "name": "stdout",
     "output_type": "stream",
     "text": [
      "C:\\Users\\Abhinav Raj\\Downloads\\Projects\\Images\\151.png\n",
      "C:\\Users\\Abhinav Raj\\Downloads\\Projects\\Images\\152.png\n",
      "C:\\Users\\Abhinav Raj\\Downloads\\Projects\\Images\\153.png\n",
      "C:\\Users\\Abhinav Raj\\Downloads\\Projects\\Images\\154.png\n",
      "C:\\Users\\Abhinav Raj\\Downloads\\Projects\\Images\\155.png\n",
      "C:\\Users\\Abhinav Raj\\Downloads\\Projects\\Images\\156.png\n",
      "C:\\Users\\Abhinav Raj\\Downloads\\Projects\\Images\\157.png\n",
      "C:\\Users\\Abhinav Raj\\Downloads\\Projects\\Images\\158.png\n",
      "C:\\Users\\Abhinav Raj\\Downloads\\Projects\\Images\\159.png\n",
      "C:\\Users\\Abhinav Raj\\Downloads\\Projects\\Images\\160.png\n",
      "C:\\Users\\Abhinav Raj\\Downloads\\Projects\\Images\\161.png\n",
      "C:\\Users\\Abhinav Raj\\Downloads\\Projects\\Images\\162.png\n",
      "C:\\Users\\Abhinav Raj\\Downloads\\Projects\\Images\\163.png\n",
      "C:\\Users\\Abhinav Raj\\Downloads\\Projects\\Images\\164.png\n",
      "C:\\Users\\Abhinav Raj\\Downloads\\Projects\\Images\\165.png\n",
      "C:\\Users\\Abhinav Raj\\Downloads\\Projects\\Images\\166.png\n",
      "C:\\Users\\Abhinav Raj\\Downloads\\Projects\\Images\\167.png\n",
      "C:\\Users\\Abhinav Raj\\Downloads\\Projects\\Images\\168.png\n",
      "C:\\Users\\Abhinav Raj\\Downloads\\Projects\\Images\\169.png\n",
      "C:\\Users\\Abhinav Raj\\Downloads\\Projects\\Images\\170.png\n",
      "C:\\Users\\Abhinav Raj\\Downloads\\Projects\\Images\\171.png\n",
      "C:\\Users\\Abhinav Raj\\Downloads\\Projects\\Images\\172.png\n",
      "C:\\Users\\Abhinav Raj\\Downloads\\Projects\\Images\\173.png\n",
      "C:\\Users\\Abhinav Raj\\Downloads\\Projects\\Images\\174.png\n",
      "C:\\Users\\Abhinav Raj\\Downloads\\Projects\\Images\\175.png\n",
      "C:\\Users\\Abhinav Raj\\Downloads\\Projects\\Images\\176.png\n",
      "C:\\Users\\Abhinav Raj\\Downloads\\Projects\\Images\\177.png\n",
      "C:\\Users\\Abhinav Raj\\Downloads\\Projects\\Images\\178.png\n",
      "C:\\Users\\Abhinav Raj\\Downloads\\Projects\\Images\\179.png\n",
      "C:\\Users\\Abhinav Raj\\Downloads\\Projects\\Images\\180.png\n",
      "C:\\Users\\Abhinav Raj\\Downloads\\Projects\\Images\\181.png\n",
      "C:\\Users\\Abhinav Raj\\Downloads\\Projects\\Images\\182.png\n",
      "C:\\Users\\Abhinav Raj\\Downloads\\Projects\\Images\\183.png\n",
      "C:\\Users\\Abhinav Raj\\Downloads\\Projects\\Images\\184.png\n",
      "C:\\Users\\Abhinav Raj\\Downloads\\Projects\\Images\\185.png\n",
      "C:\\Users\\Abhinav Raj\\Downloads\\Projects\\Images\\186.png\n",
      "C:\\Users\\Abhinav Raj\\Downloads\\Projects\\Images\\187.png\n",
      "C:\\Users\\Abhinav Raj\\Downloads\\Projects\\Images\\188.png\n",
      "C:\\Users\\Abhinav Raj\\Downloads\\Projects\\Images\\189.png\n",
      "C:\\Users\\Abhinav Raj\\Downloads\\Projects\\Images\\190.png\n",
      "C:\\Users\\Abhinav Raj\\Downloads\\Projects\\Images\\191.png\n",
      "C:\\Users\\Abhinav Raj\\Downloads\\Projects\\Images\\192.png\n",
      "C:\\Users\\Abhinav Raj\\Downloads\\Projects\\Images\\193.png\n",
      "C:\\Users\\Abhinav Raj\\Downloads\\Projects\\Images\\194.png\n",
      "C:\\Users\\Abhinav Raj\\Downloads\\Projects\\Images\\195.png\n",
      "C:\\Users\\Abhinav Raj\\Downloads\\Projects\\Images\\196.png\n",
      "C:\\Users\\Abhinav Raj\\Downloads\\Projects\\Images\\197.png\n",
      "C:\\Users\\Abhinav Raj\\Downloads\\Projects\\Images\\198.png\n",
      "C:\\Users\\Abhinav Raj\\Downloads\\Projects\\Images\\199.png\n",
      "C:\\Users\\Abhinav Raj\\Downloads\\Projects\\Images\\200.png\n",
      "C:\\Users\\Abhinav Raj\\Downloads\\Projects\\Images\\201.png\n",
      "C:\\Users\\Abhinav Raj\\Downloads\\Projects\\Images\\202.png\n",
      "C:\\Users\\Abhinav Raj\\Downloads\\Projects\\Images\\203.png\n",
      "C:\\Users\\Abhinav Raj\\Downloads\\Projects\\Images\\204.png\n",
      "C:\\Users\\Abhinav Raj\\Downloads\\Projects\\Images\\205.png\n",
      "C:\\Users\\Abhinav Raj\\Downloads\\Projects\\Images\\206.png\n",
      "C:\\Users\\Abhinav Raj\\Downloads\\Projects\\Images\\207.png\n",
      "C:\\Users\\Abhinav Raj\\Downloads\\Projects\\Images\\208.png\n",
      "C:\\Users\\Abhinav Raj\\Downloads\\Projects\\Images\\209.png\n",
      "C:\\Users\\Abhinav Raj\\Downloads\\Projects\\Images\\210.png\n",
      "C:\\Users\\Abhinav Raj\\Downloads\\Projects\\Images\\211.png\n",
      "C:\\Users\\Abhinav Raj\\Downloads\\Projects\\Images\\212.png\n",
      "C:\\Users\\Abhinav Raj\\Downloads\\Projects\\Images\\213.png\n",
      "C:\\Users\\Abhinav Raj\\Downloads\\Projects\\Images\\214.png\n",
      "C:\\Users\\Abhinav Raj\\Downloads\\Projects\\Images\\215.png\n",
      "C:\\Users\\Abhinav Raj\\Downloads\\Projects\\Images\\216.png\n",
      "C:\\Users\\Abhinav Raj\\Downloads\\Projects\\Images\\217.png\n",
      "C:\\Users\\Abhinav Raj\\Downloads\\Projects\\Images\\218.png\n",
      "C:\\Users\\Abhinav Raj\\Downloads\\Projects\\Images\\219.png\n",
      "C:\\Users\\Abhinav Raj\\Downloads\\Projects\\Images\\220.png\n",
      "C:\\Users\\Abhinav Raj\\Downloads\\Projects\\Images\\221.png\n",
      "C:\\Users\\Abhinav Raj\\Downloads\\Projects\\Images\\222.png\n",
      "C:\\Users\\Abhinav Raj\\Downloads\\Projects\\Images\\223.png\n",
      "C:\\Users\\Abhinav Raj\\Downloads\\Projects\\Images\\224.png\n",
      "C:\\Users\\Abhinav Raj\\Downloads\\Projects\\Images\\225.png\n",
      "C:\\Users\\Abhinav Raj\\Downloads\\Projects\\Images\\226.png\n",
      "C:\\Users\\Abhinav Raj\\Downloads\\Projects\\Images\\227.png\n",
      "C:\\Users\\Abhinav Raj\\Downloads\\Projects\\Images\\228.png\n",
      "C:\\Users\\Abhinav Raj\\Downloads\\Projects\\Images\\229.png\n",
      "C:\\Users\\Abhinav Raj\\Downloads\\Projects\\Images\\230.png\n",
      "C:\\Users\\Abhinav Raj\\Downloads\\Projects\\Images\\231.png\n",
      "C:\\Users\\Abhinav Raj\\Downloads\\Projects\\Images\\232.png\n",
      "C:\\Users\\Abhinav Raj\\Downloads\\Projects\\Images\\233.png\n",
      "C:\\Users\\Abhinav Raj\\Downloads\\Projects\\Images\\234.png\n",
      "C:\\Users\\Abhinav Raj\\Downloads\\Projects\\Images\\235.png\n",
      "C:\\Users\\Abhinav Raj\\Downloads\\Projects\\Images\\236.png\n"
     ]
    }
   ],
   "source": [
    "for itera in range(iteration):\n",
    "   \n",
    "    #-----------------------------------------------------------------------------\n",
    "    #----------------------------Tournament Selection-----------------------------\n",
    "    #-----------------------------------------------------------------------------\n",
    "    P=[]\n",
    "    for i in range(len(ini_pop)):\n",
    "        k=np.random.randint(len(ini_pop),size=2).tolist()\n",
    "        if fun(ini_pop[k[0]],T) < fun(ini_pop[k[1]],T):\n",
    "            P.append(ini_pop[k[0]])\n",
    "        else:\n",
    "            P.append(ini_pop[k[1]])\n",
    "    # Now we have new population P instead of ini_pop after touranement selection \n",
    "    #-----------------------------------------------------------------------------\n",
    "    #-----------------------------Crossover---------------------------------------\n",
    "    #-----------------------------------------------------------------------------\n",
    "   \n",
    "    d=[]\n",
    "    for i in range(int(len(P)/2)):\n",
    "        k=np.random.randint(len(P),size=2).tolist()\n",
    "        a=P[k[0]]\n",
    "        b=P[k[1]]\n",
    "        k=np.random.randint(1,bits)\n",
    "        fd=[a[:k]]\n",
    "        bd=[b[:k]]\n",
    "        fd.append(b[k:])\n",
    "        bd.append(a[k:])\n",
    "        n1=fd[0]+fd[1]\n",
    "        n2=bd[0]+bd[1]\n",
    "        d.append(n1)\n",
    "        d.append(n2)\n",
    "    # Now we have new population d instead of P after crossover\n",
    "    #-------------------------------------------------------------------------------\n",
    "    #-------------------------------Mutation----------------------------------------\n",
    "    #-------------------------------------------------------------------------------\n",
    "    \n",
    "    f_pop=[]\n",
    "    pm=1/len(d)\n",
    "    for n in d:\n",
    "        if np.random.random() < pm :\n",
    "            k=np.random.randint(bits,size=2).tolist()\n",
    "            aa=n[k[0]]\n",
    "            bb=n[k[1]]\n",
    "            n[k[0]]=bb\n",
    "            n[k[1]]=aa\n",
    "        f_pop.append(n)\n",
    "        \n",
    "    if itera%200==0:\n",
    "        fitness=[]\n",
    "        for i in f_pop:\n",
    "            fitness.append(fun(i,T))\n",
    "        d=np.argsort(fitness).tolist()\n",
    "        ff=[]\n",
    "        for i in range(int(len(a)/8)):\n",
    "            ff.append(bit2num(f_pop[d[0]][i*8:(i*8)+8]))\n",
    "        a=\"C:\\\\Users\\\\Abhinav Raj\\\\Downloads\\\\Projects\\\\Images\\\\\"+str(int(itera/200))+\".png\"\n",
    "        l=np.array(ff).reshape(i_size)\n",
    "        j=Image.fromarray(l*255)\n",
    "        j.save(a)\n",
    "        print(a)\n",
    "        \n",
    "        \n",
    "        \n",
    "        \n",
    "    ini_pop=f_pop\n",
    "    # Now we have a new population f_pop instead of d after mutation\n",
    "#itness=[]\n",
    "#or i in f_pop:\n",
    "    #itness.append(fun(i,T))\n",
    "#=np.argsort(fitness).tolist()\n",
    "#rint(\"The function minimum value is :\", fun(f_pop[d[0]],T))\n",
    "#f=[]\n",
    "#or i in range(int(len(a)/8)):\n",
    " #      ff.append(bit2num(f_pop[d[0]][i*8:(i*8)+8]))\n",
    "#mshow(np.array(ff).reshape(16,21),cmap=\"gray\")"
   ]
  },
  {
   "cell_type": "code",
   "execution_count": null,
   "metadata": {},
   "outputs": [],
   "source": []
  }
 ],
 "metadata": {
  "kernelspec": {
   "display_name": "Python 3",
   "language": "python",
   "name": "python3"
  },
  "language_info": {
   "codemirror_mode": {
    "name": "ipython",
    "version": 3
   },
   "file_extension": ".py",
   "mimetype": "text/x-python",
   "name": "python",
   "nbconvert_exporter": "python",
   "pygments_lexer": "ipython3",
   "version": "3.7.1"
  }
 },
 "nbformat": 4,
 "nbformat_minor": 2
}
