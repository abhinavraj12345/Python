{
 "cells": [
  {
   "cell_type": "code",
   "execution_count": 218,
   "metadata": {},
   "outputs": [],
   "source": [
    "import numpy as np"
   ]
  },
  {
   "cell_type": "markdown",
   "metadata": {},
   "source": [
    "#### Variables Defined"
   ]
  },
  {
   "cell_type": "code",
   "execution_count": 219,
   "metadata": {},
   "outputs": [],
   "source": [
    "XL=-5\n",
    "XU=5\n",
    "bits=10\n",
    "iterations=10000\n",
    "pop_size=10 #(Population Sizs shouls be greater than 1)"
   ]
  },
  {
   "cell_type": "markdown",
   "metadata": {},
   "source": [
    "#### Define Function"
   ]
  },
  {
   "cell_type": "code",
   "execution_count": 220,
   "metadata": {},
   "outputs": [],
   "source": [
    "def fun(x):\n",
    "    return (x*x*x*x-8*x*x+5)"
   ]
  },
  {
   "cell_type": "code",
   "execution_count": 221,
   "metadata": {},
   "outputs": [],
   "source": [
    "def bit2num(x):\n",
    "    return (int(\"\".join(map(str,x)),2))"
   ]
  },
  {
   "cell_type": "markdown",
   "metadata": {},
   "source": [
    "#### Initial Population"
   ]
  },
  {
   "cell_type": "code",
   "execution_count": 222,
   "metadata": {},
   "outputs": [],
   "source": [
    "ini_pop = []\n",
    "for i in range(pop_size):\n",
    "    ini_pop.append(np.random.choice([0,1],size=bits).tolist())"
   ]
  },
  {
   "cell_type": "code",
   "execution_count": 223,
   "metadata": {},
   "outputs": [
    {
     "name": "stdout",
     "output_type": "stream",
     "text": [
      "The function minimizes at  x =  2\n",
      "The function minimum value is : -11\n"
     ]
    }
   ],
   "source": [
    "for i in range(iterations):\n",
    "    #-----------------------------------------------------------------------------\n",
    "    #----------------------------Tournament Selection-----------------------------\n",
    "    #-----------------------------------------------------------------------------\n",
    "    P=[]\n",
    "    for i in range(len(ini_pop)):\n",
    "        k=np.random.randint(len(ini_pop),size=2).tolist()\n",
    "        if fun(bit2num(ini_pop[k[0]])) < fun(bit2num(ini_pop[k[1]])):\n",
    "            P.append(ini_pop[k[0]])\n",
    "        else:\n",
    "            P.append(ini_pop[k[1]])\n",
    "    # Now we have new population P instead of ini_pop after touranement selection \n",
    "    #-----------------------------------------------------------------------------\n",
    "    #-----------------------------Crossover---------------------------------------\n",
    "    #-----------------------------------------------------------------------------\n",
    "    d=[]\n",
    "    for i in range(int(len(P)/2)):\n",
    "        k=np.random.randint(len(P),size=2).tolist()\n",
    "        a=P[k[0]]\n",
    "        b=P[k[1]]\n",
    "        k=np.random.randint(1,bits)\n",
    "        fd=[a[:k]]\n",
    "        bd=[b[:k]]\n",
    "        fd.append(b[k:])\n",
    "        bd.append(a[k:])\n",
    "        n1=fd[0]+fd[1]\n",
    "        n2=bd[0]+bd[1]\n",
    "        d.append(n1)\n",
    "        d.append(n2)\n",
    "    # Now we have new population d instead of P after crossover\n",
    "    #-------------------------------------------------------------------------------\n",
    "    #-------------------------------Mutation----------------------------------------\n",
    "    #-------------------------------------------------------------------------------\n",
    "    f_pop=[]\n",
    "    pm=1/len(d)\n",
    "    for n in d:\n",
    "        if np.random.random() < pm :\n",
    "            m=np.random.randint(0,bits)\n",
    "            if (n[m]==0):\n",
    "                n[m]=1\n",
    "            else:\n",
    "                n[m]=0\n",
    "        f_pop.append(n)\n",
    "    ini_pop=f_pop\n",
    "    # Now we have a new population f_pop instead of d after mutation\n",
    "fitness=[]\n",
    "for i in f_pop:\n",
    "    fitness.append(fun(bit2num(i)))\n",
    "d=np.argsort(fitness).tolist()\n",
    "print(\"The function minimizes at  x = \", bit2num(f_pop[d[0]]))\n",
    "print(\"The function minimum value is :\", fun(bit2num(f_pop[d[0]])))"
   ]
  },
  {
   "cell_type": "code",
   "execution_count": null,
   "metadata": {},
   "outputs": [],
   "source": []
  }
 ],
 "metadata": {
  "kernelspec": {
   "display_name": "Python 3",
   "language": "python",
   "name": "python3"
  },
  "language_info": {
   "codemirror_mode": {
    "name": "ipython",
    "version": 3
   },
   "file_extension": ".py",
   "mimetype": "text/x-python",
   "name": "python",
   "nbconvert_exporter": "python",
   "pygments_lexer": "ipython3",
   "version": "3.7.1"
  }
 },
 "nbformat": 4,
 "nbformat_minor": 2
}
