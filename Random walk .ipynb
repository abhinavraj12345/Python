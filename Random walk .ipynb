{
 "cells": [
  {
   "cell_type": "code",
   "execution_count": 26,
   "metadata": {},
   "outputs": [
    {
     "name": "stdout",
     "output_type": "stream",
     "text": [
      "(1, -3)  Distance from home = 4\n",
      "(2, 2)  Distance from home = 4\n",
      "(1, -3)  Distance from home = 4\n",
      "(-1, 1)  Distance from home = 2\n",
      "(-1, 5)  Distance from home = 6\n",
      "(3, 1)  Distance from home = 4\n",
      "(2, -4)  Distance from home = 6\n",
      "(-2, -2)  Distance from home = 4\n",
      "(1, 1)  Distance from home = 2\n",
      "(3, 5)  Distance from home = 8\n",
      "(0, 2)  Distance from home = 2\n",
      "(1, 1)  Distance from home = 2\n",
      "(2, -2)  Distance from home = 4\n",
      "(-3, 3)  Distance from home = 6\n",
      "(0, 4)  Distance from home = 4\n",
      "(-7, 1)  Distance from home = 8\n",
      "(3, 1)  Distance from home = 4\n",
      "(1, -1)  Distance from home = 2\n",
      "(3, -5)  Distance from home = 8\n",
      "(0, -2)  Distance from home = 2\n",
      "(1, 1)  Distance from home = 2\n",
      "(1, -1)  Distance from home = 2\n",
      "(0, -2)  Distance from home = 2\n",
      "(2, 4)  Distance from home = 6\n",
      "(-1, 3)  Distance from home = 4\n"
     ]
    }
   ],
   "source": [
    "import random\n",
    "#--------------------------------------------------------------------------\n",
    "def random_walk(n):\n",
    "    \"\"\"Return coordinates after 'n' block random walk.\"\"\"\n",
    "    x=0\n",
    "    y=0\n",
    "    for i in range(n):\n",
    "        step=random.choice(['E','W','N','S'])\n",
    "        if step=='N':\n",
    "            y=y+1\n",
    "        elif step =='S':\n",
    "            y=y-1\n",
    "        elif step=='E':\n",
    "            x=x+1\n",
    "        else:\n",
    "            x=x-1\n",
    "    return(x,y)\n",
    "#----------------------------------------------------------------------------\n",
    "for i in range(25):\n",
    "    walk=random_walk(10)\n",
    "    print(walk,\" Distance from home =\",abs(walk[0])+abs(walk[1]))"
   ]
  },
  {
   "cell_type": "code",
   "execution_count": 29,
   "metadata": {},
   "outputs": [
    {
     "name": "stdout",
     "output_type": "stream",
     "text": [
      "(0, -2)  Distance from home = 2\n",
      "(0, 0)  Distance from home = 0\n",
      "(1, 1)  Distance from home = 2\n",
      "(0, 0)  Distance from home = 0\n",
      "(2, -4)  Distance from home = 6\n",
      "(2, -2)  Distance from home = 4\n",
      "(-1, 1)  Distance from home = 2\n",
      "(3, 1)  Distance from home = 4\n",
      "(-3, 1)  Distance from home = 4\n",
      "(1, -1)  Distance from home = 2\n",
      "(-1, -3)  Distance from home = 4\n",
      "(-1, 1)  Distance from home = 2\n",
      "(0, 2)  Distance from home = 2\n",
      "(2, -2)  Distance from home = 4\n",
      "(-1, 1)  Distance from home = 2\n",
      "(0, 0)  Distance from home = 0\n",
      "(-1, 1)  Distance from home = 2\n",
      "(-2, 4)  Distance from home = 6\n",
      "(2, 4)  Distance from home = 6\n",
      "(0, 0)  Distance from home = 0\n",
      "(-1, 3)  Distance from home = 4\n",
      "(3, 3)  Distance from home = 6\n",
      "(1, -1)  Distance from home = 2\n",
      "(0, 2)  Distance from home = 2\n",
      "(0, 2)  Distance from home = 2\n"
     ]
    }
   ],
   "source": [
    "def random_walk2(n):\n",
    "    x,y=0,0\n",
    "    for i in range(n):\n",
    "        dx,dy=random.choice([(0,1),(0,-1),(1,0),(-1,0)])\n",
    "        x+=dx\n",
    "        y+=dy\n",
    "    return(x,y)\n",
    "#----------------------------------------------------------------\n",
    "for i in range(25):\n",
    "    walk=random_walk2(10)\n",
    "    print(walk,\" Distance from home =\",abs(walk[0])+abs(walk[1]))"
   ]
  },
  {
   "cell_type": "code",
   "execution_count": null,
   "metadata": {},
   "outputs": [],
   "source": []
  }
 ],
 "metadata": {
  "kernelspec": {
   "display_name": "Python 3",
   "language": "python",
   "name": "python3"
  },
  "language_info": {
   "codemirror_mode": {
    "name": "ipython",
    "version": 3
   },
   "file_extension": ".py",
   "mimetype": "text/x-python",
   "name": "python",
   "nbconvert_exporter": "python",
   "pygments_lexer": "ipython3",
   "version": "3.7.1"
  }
 },
 "nbformat": 4,
 "nbformat_minor": 2
}
