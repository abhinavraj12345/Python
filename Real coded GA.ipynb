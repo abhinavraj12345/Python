{
 "cells": [
  {
   "cell_type": "code",
   "execution_count": 78,
   "metadata": {},
   "outputs": [],
   "source": [
    "import numpy as np"
   ]
  },
  {
   "cell_type": "code",
   "execution_count": 79,
   "metadata": {},
   "outputs": [],
   "source": [
    "def fun(x):\n",
    "    return x*x"
   ]
  },
  {
   "cell_type": "code",
   "execution_count": 80,
   "metadata": {},
   "outputs": [],
   "source": [
    "def delta(t,y,iterations):\n",
    "    return y*(1-(np.random.rand()**(1-t/iterations)))**2"
   ]
  },
  {
   "cell_type": "code",
   "execution_count": 81,
   "metadata": {},
   "outputs": [],
   "source": [
    "XL=-50\n",
    "XU=50\n",
    "iterations=10000\n",
    "pop_size=4\n",
    "alpha=0.7"
   ]
  },
  {
   "cell_type": "code",
   "execution_count": 82,
   "metadata": {},
   "outputs": [
    {
     "data": {
      "text/plain": [
       "[-12.338499744799392,\n",
       " -19.088752659411913,\n",
       " 33.5671168006693,\n",
       " -33.81922284842595]"
      ]
     },
     "execution_count": 82,
     "metadata": {},
     "output_type": "execute_result"
    }
   ],
   "source": [
    "ini_pop=np.random.uniform(XL, XU,pop_size).tolist()\n",
    "ini_pop"
   ]
  },
  {
   "cell_type": "code",
   "execution_count": 83,
   "metadata": {},
   "outputs": [],
   "source": [
    "for t in range(iterations):\n",
    "    #--------------------------------------------------------------\n",
    "    #------------------- Tournament Selection----------------------\n",
    "    #--------------------------------------------------------------\n",
    "    P=[]\n",
    "    for i in range(len(ini_pop)):\n",
    "        k=np.random.randint(len(ini_pop),size=2).tolist()\n",
    "        if fun(ini_pop[k[0]]) < fun(ini_pop[k[1]]):\n",
    "            P.append(ini_pop[k[0]])\n",
    "        else:\n",
    "            P.append(ini_pop[k[1]])\n",
    "    # Now we have new population P instead of ini_pop after touranement selection \n",
    "    #-----------------------------------------------------------------------------\n",
    "    #-----------------------------Crossover---------------------------------------\n",
    "    #-----------------------------------------------------------------------------\n",
    "    d=[]\n",
    "    for i in range(int(len(P)/2)):\n",
    "        k=np.random.randint(len(P),size=2).tolist()\n",
    "        a=P[k[0]]\n",
    "        b=P[k[1]]\n",
    "        h1=alpha*a + (1-alpha)*b\n",
    "        h2=alpha*b+(1-alpha)*a\n",
    "        d.append(h1)\n",
    "        d.append(h2)\n",
    "    # Now we have new population d instead of P after crossover\n",
    "    #-------------------------------------------------------------------------------\n",
    "    #-------------------------------Mutation----------------------------------------\n",
    "    #-------------------------------------------------------------------------------\n",
    "    mut_pop=np.unique(np.random.randint(0,len(d),int(len(d)/2))).tolist()\n",
    "    for i in range(len(mut_pop)):\n",
    "        r=np.random.rand()\n",
    "        if r >=0.5:\n",
    "            d[mut_pop[i]]=d[mut_pop[i]]+delta(t,XU-d[mut_pop[i]],iterations)\n",
    "        else:\n",
    "            d[mut_pop[i]]=d[mut_pop[i]]-delta(t,d[mut_pop[i]]-XL,iterations)\n",
    "    #--------------------------------------------------------------------------------\n",
    "    #--------------------------------------------------------------------------------\n",
    "    # Now we have population d after mutation\n",
    "    ini_pop=d"
   ]
  },
  {
   "cell_type": "code",
   "execution_count": 84,
   "metadata": {},
   "outputs": [],
   "source": [
    "fitness=[]\n",
    "for i in d:\n",
    "    fitness.append(fun(i))\n",
    "k=np.argsort(fitness).tolist()"
   ]
  },
  {
   "cell_type": "code",
   "execution_count": 85,
   "metadata": {},
   "outputs": [
    {
     "name": "stdout",
     "output_type": "stream",
     "text": [
      "The function minimizes at  x =  -0.00017655838342243207\n",
      "The function minimum value is : -3.999999968827137\n"
     ]
    }
   ],
   "source": [
    "print(\"The function minimizes at  x = \", d[k[0]])\n",
    "print(\"The function minimum value is :\", fun(d[k[0]]))"
   ]
  },
  {
   "cell_type": "code",
   "execution_count": null,
   "metadata": {},
   "outputs": [],
   "source": []
  }
 ],
 "metadata": {
  "kernelspec": {
   "display_name": "Python 3",
   "language": "python",
   "name": "python3"
  },
  "language_info": {
   "codemirror_mode": {
    "name": "ipython",
    "version": 3
   },
   "file_extension": ".py",
   "mimetype": "text/x-python",
   "name": "python",
   "nbconvert_exporter": "python",
   "pygments_lexer": "ipython3",
   "version": "3.7.1"
  }
 },
 "nbformat": 4,
 "nbformat_minor": 2
}
