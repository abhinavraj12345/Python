{
 "cells": [
  {
   "cell_type": "code",
   "execution_count": 3,
   "metadata": {},
   "outputs": [],
   "source": [
    "import numpy as np\n",
    "import itertools\n",
    "import random"
   ]
  },
  {
   "cell_type": "markdown",
   "metadata": {},
   "source": [
    "### Travelling salesman functions"
   ]
  },
  {
   "cell_type": "code",
   "execution_count": 4,
   "metadata": {},
   "outputs": [],
   "source": [
    "def data_input():\n",
    "    print('Enter the number of cities : ')\n",
    "    num_of_cities=int(input())\n",
    "    dist_matrix=np.zeros((num_of_cities,num_of_cities))\n",
    "    for a,b in itertools.combinations(range(num_of_cities),2):\n",
    "        print('Distance between citiy ',a,'and',b,' : ')\n",
    "        dist_matrix[a][b]=input()\n",
    "        dist_matrix[b][a]=dist_matrix[a][b]\n",
    "    return dist_matrix"
   ]
  },
  {
   "cell_type": "code",
   "execution_count": 5,
   "metadata": {},
   "outputs": [],
   "source": [
    "def distance_travelled(route,dist_matrix):\n",
    "    a=route+[route[0]]\n",
    "    dist_travel=0\n",
    "    for i in range(len(route)):\n",
    "        dist_travel +=dist_matrix[a[i]][a[i+1]]\n",
    "    return dist_travel"
   ]
  },
  {
   "cell_type": "code",
   "execution_count": 6,
   "metadata": {},
   "outputs": [
    {
     "name": "stdout",
     "output_type": "stream",
     "text": [
      "Enter the number of cities : \n",
      "4\n",
      "Distance between citiy  0 and 1  : \n",
      "10\n",
      "Distance between citiy  0 and 2  : \n",
      "15\n",
      "Distance between citiy  0 and 3  : \n",
      "20\n",
      "Distance between citiy  1 and 2  : \n",
      "35\n",
      "Distance between citiy  1 and 3  : \n",
      "25\n",
      "Distance between citiy  2 and 3  : \n",
      "30\n"
     ]
    },
    {
     "data": {
      "text/plain": [
       "array([[ 0., 10., 15., 20.],\n",
       "       [10.,  0., 35., 25.],\n",
       "       [15., 35.,  0., 30.],\n",
       "       [20., 25., 30.,  0.]])"
      ]
     },
     "execution_count": 6,
     "metadata": {},
     "output_type": "execute_result"
    }
   ],
   "source": [
    "dist_matrix=data_input()\n",
    "dist_matrix"
   ]
  },
  {
   "cell_type": "markdown",
   "metadata": {},
   "source": [
    "#### Genetic function"
   ]
  },
  {
   "cell_type": "code",
   "execution_count": 7,
   "metadata": {},
   "outputs": [],
   "source": [
    "def pop_generation(pop_size,high_rank):\n",
    "    p=[]\n",
    "    for i in range(pop_size):\n",
    "        p.append(np.random.choice(high_rank, high_rank,replace=False).tolist())\n",
    "    return p"
   ]
  },
  {
   "cell_type": "code",
   "execution_count": 8,
   "metadata": {},
   "outputs": [],
   "source": [
    "def crossover(x,y):\n",
    "    # two point crossover\n",
    "    k=random.sample(range(1,len(x)-1),2)\n",
    "    k=np.sort(k).tolist()\n",
    "    a11=x[:k[0]]\n",
    "    b11=y[:k[0]]\n",
    "    a12=x[k[0]:k[1]]\n",
    "    b12=y[k[0]:k[1]]\n",
    "    a13=x[k[1]:]\n",
    "    b13=y[k[1]:]\n",
    "    O1=b13+b11+b12\n",
    "    O2=a13+a11+a12\n",
    "    l1=[]\n",
    "    for i in O1: \n",
    "        if i not in a12:\n",
    "            l1.append(i)\n",
    "    l2=[]\n",
    "    for i in O2: \n",
    "        if i not in b12:\n",
    "            l2.append(i)\n",
    "    P1=l1[len(x)-k[1]:]+a12+l1[:len(x)-k[1]]\n",
    "    P2=l2[len(x)-k[1]:]+b12+l2[:len(x)-k[1]]\n",
    "    return P1,P2"
   ]
  },
  {
   "cell_type": "code",
   "execution_count": 9,
   "metadata": {},
   "outputs": [],
   "source": [
    "def mutation(x):\n",
    "    k=random.sample(range(len(x)),2)\n",
    "    a=x[k[0]]\n",
    "    b=x[k[1]]\n",
    "    x[k[0]]=b\n",
    "    x[k[1]]=a\n",
    "    return x"
   ]
  },
  {
   "cell_type": "code",
   "execution_count": 10,
   "metadata": {},
   "outputs": [],
   "source": [
    "def selection(ini_pop,dist_matrix):\n",
    "    P=[]\n",
    "    for i in range(len(ini_pop)):\n",
    "        k=np.random.randint(len(ini_pop),size=2).tolist()\n",
    "        if distance_travelled(ini_pop[k[0]],dist_matrix) < distance_travelled(ini_pop[k[1]],dist_matrix):\n",
    "            P.append(ini_pop[k[0]])\n",
    "        else:\n",
    "            P.append(ini_pop[k[1]])\n",
    "    return P\n",
    "        "
   ]
  },
  {
   "cell_type": "markdown",
   "metadata": {},
   "source": [
    "#### Initial Conditions"
   ]
  },
  {
   "cell_type": "code",
   "execution_count": 11,
   "metadata": {},
   "outputs": [],
   "source": [
    "pop_size=10\n",
    "generation=1000"
   ]
  },
  {
   "cell_type": "code",
   "execution_count": 12,
   "metadata": {},
   "outputs": [
    {
     "data": {
      "text/plain": [
       "[[0, 2, 3, 1],\n",
       " [3, 0, 1, 2],\n",
       " [3, 2, 1, 0],\n",
       " [2, 1, 0, 3],\n",
       " [0, 3, 1, 2],\n",
       " [3, 1, 0, 2],\n",
       " [3, 2, 0, 1],\n",
       " [1, 0, 3, 2],\n",
       " [3, 1, 0, 2],\n",
       " [0, 1, 2, 3]]"
      ]
     },
     "execution_count": 12,
     "metadata": {},
     "output_type": "execute_result"
    }
   ],
   "source": [
    "pop=pop_generation(pop_size,len(dist_matrix))\n",
    "pop"
   ]
  },
  {
   "cell_type": "code",
   "execution_count": 13,
   "metadata": {},
   "outputs": [],
   "source": [
    "for gen in range(generation):\n",
    "    \n",
    "    ####------------ selection---------------------------\n",
    "    ini_pop=selection(pop,dist_matrix)\n",
    "    ####-------------------------------------------------\n",
    "    \n",
    "    #------------ crossover------------------------------\n",
    "    crossover_pop=[]\n",
    "    for i in range(int(len(ini_pop)/2)):\n",
    "        k=np.random.randint(len(ini_pop),size=2).tolist()\n",
    "        a=ini_pop[k[0]]\n",
    "        b=ini_pop[k[1]]\n",
    "        crossover_pop += crossover(a,b)\n",
    "    #-----------------------------------------------------\n",
    "    \n",
    "    ####-----------mutation-------------------------------\n",
    "    #mut_pop=[]\n",
    "    for j in range(len(crossover_pop)):\n",
    "        mut_pop += [mutation(crossover_pop[j])]\n",
    "    ####-------------------------------------------------\n",
    "    \n",
    "    pop=mut_pop\n",
    "    "
   ]
  },
  {
   "cell_type": "code",
   "execution_count": null,
   "metadata": {},
   "outputs": [],
   "source": []
  }
 ],
 "metadata": {
  "kernelspec": {
   "display_name": "Python 3",
   "language": "python",
   "name": "python3"
  },
  "language_info": {
   "codemirror_mode": {
    "name": "ipython",
    "version": 3
   },
   "file_extension": ".py",
   "mimetype": "text/x-python",
   "name": "python",
   "nbconvert_exporter": "python",
   "pygments_lexer": "ipython3",
   "version": "3.7.4"
  }
 },
 "nbformat": 4,
 "nbformat_minor": 2
}
