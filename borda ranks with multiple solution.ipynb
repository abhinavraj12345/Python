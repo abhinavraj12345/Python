{
 "cells": [
  {
   "cell_type": "code",
   "execution_count": 5,
   "metadata": {},
   "outputs": [],
   "source": [
    "def borda_ranking(ranks): # takes input as numpy array\n",
    "    import itertools\n",
    "    ranks=ranks.astype(int)\n",
    "    #-----------------------------------------------------\n",
    "    scores={}\n",
    "    for k in range(np.min(ranks),np.max(ranks)+1):\n",
    "        scores[k]=0\n",
    "    #-----------------------------------------------------\n",
    "    for i in ranks:\n",
    "        for j in range(len(i)):\n",
    "            for k in range(np.min(ranks),np.max(ranks)+1):\n",
    "                if i[j]==k:\n",
    "                    scores[k] +=1*(j+1)\n",
    "    #print(scores)\n",
    "    #-----------------------------------------------------\n",
    "    fd = {}   \n",
    "    for key, value in scores.items(): \n",
    "        if value not in fd: \n",
    "            fd[value] = [key] \n",
    "        else: \n",
    "            fd[value].append(key)\n",
    "    #print(fd)\n",
    "    #-----------------------------------------------------\n",
    "    new_dict={}\n",
    "    for a in np.sort(list(map(int,fd.keys()))).tolist():\n",
    "        new_dict[a]=fd[a]\n",
    "    #print(new_dict)\n",
    "    #-----------------------------------------------------\n",
    "    k=list(new_dict.values())\n",
    "    c=list(itertools.product(*list(map(list,list(map(itertools.permutations,k))))))\n",
    "    #---------------------------------------------------------------------------------\n",
    "    d=[]\n",
    "    for i in range(len(c)):\n",
    "        d.append(list(map(list,c[i])))\n",
    "    #----------------------------------------------------------------------------------\n",
    "    g=[]\n",
    "    for i in range(len(d)):\n",
    "        g.append([ item for elem in d[i] for item in elem])\n",
    "    return g\n",
    "    "
   ]
  },
  {
   "cell_type": "code",
   "execution_count": 6,
   "metadata": {},
   "outputs": [],
   "source": [
    "import numpy as np"
   ]
  },
  {
   "cell_type": "code",
   "execution_count": 7,
   "metadata": {},
   "outputs": [],
   "source": [
    "ranks=np.array([[0., 2., 3., 1., 4.],\n",
    "       [0., 2., 1., 4., 3.],\n",
    "       [0., 1., 2., 3., 4.],\n",
    "       [1., 0., 4., 2., 3.],\n",
    "       [0., 1., 3., 2., 4.],\n",
    "       [0., 2., 1., 4., 3.],\n",
    "       [0., 1., 2., 3., 4.],\n",
    "       [0., 2., 3., 1., 4.],\n",
    "       [1., 0., 2., 3., 4.],\n",
    "       [0., 1., 3., 2., 4.]])"
   ]
  },
  {
   "cell_type": "code",
   "execution_count": 8,
   "metadata": {},
   "outputs": [
    {
     "data": {
      "text/plain": [
       "[[0, 1, 2, 3, 4]]"
      ]
     },
     "execution_count": 8,
     "metadata": {},
     "output_type": "execute_result"
    }
   ],
   "source": [
    "borda_ranking(ranks)"
   ]
  },
  {
   "cell_type": "code",
   "execution_count": null,
   "metadata": {},
   "outputs": [],
   "source": []
  }
 ],
 "metadata": {
  "kernelspec": {
   "display_name": "Python 3",
   "language": "python",
   "name": "python3"
  },
  "language_info": {
   "codemirror_mode": {
    "name": "ipython",
    "version": 3
   },
   "file_extension": ".py",
   "mimetype": "text/x-python",
   "name": "python",
   "nbconvert_exporter": "python",
   "pygments_lexer": "ipython3",
   "version": "3.7.1"
  }
 },
 "nbformat": 4,
 "nbformat_minor": 2
}
