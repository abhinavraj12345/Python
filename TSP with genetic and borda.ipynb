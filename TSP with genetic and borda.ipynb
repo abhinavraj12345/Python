{
 "cells": [
  {
   "cell_type": "code",
   "execution_count": 18,
   "metadata": {},
   "outputs": [],
   "source": [
    "import numpy as np\n",
    "import itertools\n",
    "import random\n",
    "#from rankaggregation import Borda\n",
    "from datetime import datetime\n",
    "import matplotlib.pyplot as plt"
   ]
  },
  {
   "cell_type": "markdown",
   "metadata": {},
   "source": [
    "### Travelling salesman functions"
   ]
  },
  {
   "cell_type": "code",
   "execution_count": 19,
   "metadata": {},
   "outputs": [],
   "source": [
    "def data_input():\n",
    "    print('Enter the number of cities : ')\n",
    "    num_of_cities=int(input())\n",
    "    dist_matrix=np.zeros((num_of_cities,num_of_cities))\n",
    "    for a,b in itertools.combinations(range(num_of_cities),2):\n",
    "        print('Distance between citiy ',a,'and',b,' : ')\n",
    "        dist_matrix[a][b]=input()\n",
    "        dist_matrix[b][a]=dist_matrix[a][b]\n",
    "    return dist_matrix"
   ]
  },
  {
   "cell_type": "code",
   "execution_count": 20,
   "metadata": {},
   "outputs": [],
   "source": [
    "def distance_travelled(route,dist_matrix):\n",
    "    a=route+[route[0]]\n",
    "    dist_travel=0\n",
    "    for i in range(len(route)):\n",
    "        dist_travel +=dist_matrix[a[i]][a[i+1]]\n",
    "    return dist_travel"
   ]
  },
  {
   "cell_type": "code",
   "execution_count": 21,
   "metadata": {},
   "outputs": [
    {
     "name": "stdout",
     "output_type": "stream",
     "text": [
      "Enter the number of cities : \n",
      "4\n",
      "Distance between citiy  0 and 1  : \n",
      "10\n",
      "Distance between citiy  0 and 2  : \n",
      "15\n",
      "Distance between citiy  0 and 3  : \n",
      "20\n",
      "Distance between citiy  1 and 2  : \n",
      "35\n",
      "Distance between citiy  1 and 3  : \n",
      "25\n",
      "Distance between citiy  2 and 3  : \n",
      "30\n"
     ]
    },
    {
     "data": {
      "text/plain": [
       "array([[ 0., 10., 15., 20.],\n",
       "       [10.,  0., 35., 25.],\n",
       "       [15., 35.,  0., 30.],\n",
       "       [20., 25., 30.,  0.]])"
      ]
     },
     "execution_count": 21,
     "metadata": {},
     "output_type": "execute_result"
    }
   ],
   "source": [
    "dist_matrix=data_input()\n",
    "dist_matrix"
   ]
  },
  {
   "cell_type": "markdown",
   "metadata": {},
   "source": [
    "#### Genetic function"
   ]
  },
  {
   "cell_type": "code",
   "execution_count": 48,
   "metadata": {},
   "outputs": [],
   "source": [
    "def pop_generation(pop_size,high_rank):\n",
    "    p=[]\n",
    "    for i in range(pop_size):\n",
    "        p.append(np.random.choice(high_rank, high_rank,replace=False).tolist())\n",
    "    return p"
   ]
  },
  {
   "cell_type": "code",
   "execution_count": 49,
   "metadata": {},
   "outputs": [],
   "source": [
    "def selection(ini_pop,dist_matrix):\n",
    "    fitness=[]\n",
    "    for i in range(len(ini_pop)):\n",
    "        fitness=[distance_travelled(i,dist_matrix) for i in ini_pop]\n",
    "    indices=np.argsort(fitness)\n",
    "    f_indices=indices[:int(len(indices)/2)]\n",
    "    return fitness,[ini_pop[i] for i in f_indices]"
   ]
  },
  {
   "cell_type": "code",
   "execution_count": 50,
   "metadata": {},
   "outputs": [],
   "source": [
    "def borda_scores(ranks):\n",
    "    ranks=ranks.astype(int)\n",
    "    \n",
    "    scores={}\n",
    "    for k in range(np.min(ranks),np.max(ranks)+1):\n",
    "        scores[k]=0\n",
    "        \n",
    "    for i in ranks:\n",
    "        for j in range(len(i)):\n",
    "            for k in range(np.min(ranks),np.max(ranks)+1):\n",
    "                if i[j]==k:\n",
    "                    scores[k] +=1*(j+1)\n",
    "    return scores"
   ]
  },
  {
   "cell_type": "code",
   "execution_count": 51,
   "metadata": {},
   "outputs": [],
   "source": [
    "def borda_solutions(ranks):\n",
    "    fd = {}   \n",
    "    for key, value in borda_scores(ranks).items(): \n",
    "        if value not in fd: \n",
    "            fd[value] = [key] \n",
    "        else: \n",
    "            fd[value].append(key)\n",
    "            \n",
    "    new_dict={}\n",
    "    for a in np.sort(list(map(int,fd.keys()))).tolist():\n",
    "        new_dict[a]=fd[a]\n",
    "        \n",
    "    k=list(new_dict.values())\n",
    "    l=[]\n",
    "    for i in range(len(k)):\n",
    "        l=l+random.sample(k[i],len(k[i]))\n",
    "    return l"
   ]
  },
  {
   "cell_type": "code",
   "execution_count": 52,
   "metadata": {},
   "outputs": [],
   "source": [
    "def borda_crossover(pop):\n",
    "    fb=[]\n",
    "    for r in range(len(pop)*2):\n",
    "        k=np.random.choice(len(pop),2,replace=False)\n",
    "        ranks=np.array([pop[k[0]],pop[k[1]]])\n",
    "        b=borda_solutions(ranks)\n",
    "        fb.append(b)\n",
    "    return fb"
   ]
  },
  {
   "cell_type": "markdown",
   "metadata": {},
   "source": [
    "# Initial Conditions"
   ]
  },
  {
   "cell_type": "code",
   "execution_count": 53,
   "metadata": {},
   "outputs": [],
   "source": [
    "pop_size=100\n",
    "generation=1000"
   ]
  },
  {
   "cell_type": "code",
   "execution_count": 54,
   "metadata": {},
   "outputs": [],
   "source": [
    "pop=pop_generation(pop_size,len(dist_matrix))\n",
    "a=pop\n",
    "#pop"
   ]
  },
  {
   "cell_type": "code",
   "execution_count": 55,
   "metadata": {},
   "outputs": [
    {
     "name": "stdout",
     "output_type": "stream",
     "text": [
      "Duration: 0:00:45.087007\n"
     ]
    }
   ],
   "source": [
    "start_time = datetime.now()\n",
    "gener=0\n",
    "mean=[]\n",
    "median=[]\n",
    "minimum=[]\n",
    "for gen in range(generation):\n",
    "    \n",
    "    ####------------ selection---------------------------\n",
    "    fit,ini_pop=selection(pop,dist_matrix)\n",
    "    ####-------------------------------------------------\n",
    "    \n",
    "    ####------------mean, median & minimum---------------\n",
    "    mean.append(np.mean(fit))\n",
    "    median.append(np.median(fit))\n",
    "    minimum.append(np.min(fit))\n",
    "    \n",
    "    #------------ crossover------------------------------\n",
    "    crossover_pop=borda_crossover(ini_pop)\n",
    "    #-----------------------------------------------------\n",
    "    \n",
    "    ####-----------mutation-------------------------------\n",
    "    #mut_pop=[]\n",
    "    #for j in range(len(crossover_pop)):\n",
    "     #   mut_pop += [mutation(crossover_pop[j])]\n",
    "    ####-------------------------------------------------\n",
    "    \n",
    "    pop=crossover_pop\n",
    "end_time = datetime.now()\n",
    "print('Duration: {}'.format(end_time - start_time))"
   ]
  },
  {
   "cell_type": "code",
   "execution_count": 56,
   "metadata": {},
   "outputs": [
    {
     "data": {
      "image/png": "[encoded data removed]",
      "text/plain": [
       "<Figure size 1440x720 with 1 Axes>"
      ]
     },
     "metadata": {
      "needs_background": "light"
     },
     "output_type": "display_data"
    }
   ],
   "source": [
    "plt.figure(figsize=(20,10))\n",
    "plt.plot(mean,':',label='Mean distance')\n",
    "plt.plot(median,':',label='Median distance')\n",
    "plt.plot(minimum,':',label='Minimum distance')\n",
    "plt.xlabel('Generations')\n",
    "plt.ylabel('Distance')\n",
    "plt.legend()\n",
    "plt.show()"
   ]
  },
  {
   "cell_type": "code",
   "execution_count": 57,
   "metadata": {},
   "outputs": [
    {
     "data": {
      "text/plain": [
       "[[2, 0, 1, 3],\n",
       " [2, 0, 1, 3],\n",
       " [2, 0, 1, 3],\n",
       " [2, 0, 1, 3],\n",
       " [2, 0, 1, 3],\n",
       " [2, 0, 1, 3],\n",
       " [2, 0, 1, 3],\n",
       " [2, 0, 1, 3],\n",
       " [2, 0, 1, 3],\n",
       " [2, 0, 1, 3],\n",
       " [2, 0, 1, 3],\n",
       " [2, 0, 1, 3],\n",
       " [2, 0, 1, 3],\n",
       " [2, 0, 1, 3],\n",
       " [2, 0, 1, 3],\n",
       " [2, 0, 1, 3],\n",
       " [2, 0, 1, 3],\n",
       " [2, 0, 1, 3],\n",
       " [2, 0, 1, 3],\n",
       " [2, 0, 1, 3],\n",
       " [2, 0, 1, 3],\n",
       " [2, 0, 1, 3],\n",
       " [2, 0, 1, 3],\n",
       " [2, 0, 1, 3],\n",
       " [2, 0, 1, 3],\n",
       " [2, 0, 1, 3],\n",
       " [2, 0, 1, 3],\n",
       " [2, 0, 1, 3],\n",
       " [2, 0, 1, 3],\n",
       " [2, 0, 1, 3],\n",
       " [2, 0, 1, 3],\n",
       " [2, 0, 1, 3],\n",
       " [2, 0, 1, 3],\n",
       " [2, 0, 1, 3],\n",
       " [2, 0, 1, 3],\n",
       " [2, 0, 1, 3],\n",
       " [2, 0, 1, 3],\n",
       " [2, 0, 1, 3],\n",
       " [2, 0, 1, 3],\n",
       " [2, 0, 1, 3],\n",
       " [2, 0, 1, 3],\n",
       " [2, 0, 1, 3],\n",
       " [2, 0, 1, 3],\n",
       " [2, 0, 1, 3],\n",
       " [2, 0, 1, 3],\n",
       " [2, 0, 1, 3],\n",
       " [2, 0, 1, 3],\n",
       " [2, 0, 1, 3],\n",
       " [2, 0, 1, 3],\n",
       " [2, 0, 1, 3],\n",
       " [2, 0, 1, 3],\n",
       " [2, 0, 1, 3],\n",
       " [2, 0, 1, 3],\n",
       " [2, 0, 1, 3],\n",
       " [2, 0, 1, 3],\n",
       " [2, 0, 1, 3],\n",
       " [2, 0, 1, 3],\n",
       " [2, 0, 1, 3],\n",
       " [2, 0, 1, 3],\n",
       " [2, 0, 1, 3],\n",
       " [2, 0, 1, 3],\n",
       " [2, 0, 1, 3],\n",
       " [2, 0, 1, 3],\n",
       " [2, 0, 1, 3],\n",
       " [2, 0, 1, 3],\n",
       " [2, 0, 1, 3],\n",
       " [2, 0, 1, 3],\n",
       " [2, 0, 1, 3],\n",
       " [2, 0, 1, 3],\n",
       " [2, 0, 1, 3],\n",
       " [2, 0, 1, 3],\n",
       " [2, 0, 1, 3],\n",
       " [2, 0, 1, 3],\n",
       " [2, 0, 1, 3],\n",
       " [2, 0, 1, 3],\n",
       " [2, 0, 1, 3],\n",
       " [2, 0, 1, 3],\n",
       " [2, 0, 1, 3],\n",
       " [2, 0, 1, 3],\n",
       " [2, 0, 1, 3],\n",
       " [2, 0, 1, 3],\n",
       " [2, 0, 1, 3],\n",
       " [2, 0, 1, 3],\n",
       " [2, 0, 1, 3],\n",
       " [2, 0, 1, 3],\n",
       " [2, 0, 1, 3],\n",
       " [2, 0, 1, 3],\n",
       " [2, 0, 1, 3],\n",
       " [2, 0, 1, 3],\n",
       " [2, 0, 1, 3],\n",
       " [2, 0, 1, 3],\n",
       " [2, 0, 1, 3],\n",
       " [2, 0, 1, 3],\n",
       " [2, 0, 1, 3],\n",
       " [2, 0, 1, 3],\n",
       " [2, 0, 1, 3],\n",
       " [2, 0, 1, 3],\n",
       " [2, 0, 1, 3],\n",
       " [2, 0, 1, 3],\n",
       " [2, 0, 1, 3]]"
      ]
     },
     "execution_count": 57,
     "metadata": {},
     "output_type": "execute_result"
    }
   ],
   "source": [
    "crossover_pop"
   ]
  },
  {
   "cell_type": "code",
   "execution_count": null,
   "metadata": {},
   "outputs": [],
   "source": []
  }
 ],
 "metadata": {
  "kernelspec": {
   "display_name": "Python 3",
   "language": "python",
   "name": "python3"
  },
  "language_info": {
   "codemirror_mode": {
    "name": "ipython",
    "version": 3
   },
   "file_extension": ".py",
   "mimetype": "text/x-python",
   "name": "python",
   "nbconvert_exporter": "python",
   "pygments_lexer": "ipython3",
   "version": "3.7.4"
  }
 },
 "nbformat": 4,
 "nbformat_minor": 2
}
