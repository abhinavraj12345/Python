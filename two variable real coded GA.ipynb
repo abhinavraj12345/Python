{
 "cells": [
  {
   "cell_type": "code",
   "execution_count": 110,
   "metadata": {},
   "outputs": [],
   "source": [
    "import numpy as np"
   ]
  },
  {
   "cell_type": "code",
   "execution_count": 111,
   "metadata": {},
   "outputs": [],
   "source": [
    "def fun(x):\n",
    "    return (1-x[0])**2+(x[1]-x[0]**2)**2"
   ]
  },
  {
   "cell_type": "code",
   "execution_count": 112,
   "metadata": {},
   "outputs": [],
   "source": [
    "def delta(t,y,iterations):\n",
    "    return y*(1-(np.random.rand()**(1-t/iterations)))**2"
   ]
  },
  {
   "cell_type": "code",
   "execution_count": 113,
   "metadata": {},
   "outputs": [],
   "source": [
    "XL=-50\n",
    "XU=50\n",
    "iterations=100000\n",
    "pop_size=10\n",
    "var=2\n",
    "alpha=0.7"
   ]
  },
  {
   "cell_type": "code",
   "execution_count": 114,
   "metadata": {},
   "outputs": [
    {
     "data": {
      "text/plain": [
       "[[23.706382448061646, -8.393014351268036],\n",
       " [43.43960013901146, 44.70928560618357],\n",
       " [8.037520515015743, -15.4447800526735],\n",
       " [4.2796934298656595, 36.13792458326316],\n",
       " [6.633522790950472, -44.29780499247067],\n",
       " [-15.5031188656381, 37.17292858818104],\n",
       " [42.85787799605542, 5.514095782320574],\n",
       " [-30.522968232560977, 29.3616263103456],\n",
       " [-2.7369913629378146, -16.583044440535573],\n",
       " [8.437853882038041, 48.566214792551676]]"
      ]
     },
     "execution_count": 114,
     "metadata": {},
     "output_type": "execute_result"
    }
   ],
   "source": [
    "ini_pop=np.random.uniform(XL, XU,(pop_size,var)).tolist()\n",
    "ini_pop"
   ]
  },
  {
   "cell_type": "code",
   "execution_count": 115,
   "metadata": {},
   "outputs": [],
   "source": [
    "for t in range(iterations):\n",
    "    #--------------------------------------------------------------\n",
    "    #------------------- Tournament Selection----------------------\n",
    "    #--------------------------------------------------------------\n",
    "    P=[]\n",
    "    for i in range(len(ini_pop)):\n",
    "        k=np.random.randint(len(ini_pop),size=2).tolist()\n",
    "        if fun(ini_pop[k[0]]) < fun(ini_pop[k[1]]):\n",
    "            P.append(ini_pop[k[0]])\n",
    "        else:\n",
    "            P.append(ini_pop[k[1]])\n",
    "    # Now we have new population P instead of ini_pop after touranement selection \n",
    "    #-----------------------------------------------------------------------------\n",
    "    #-----------------------------Crossover---------------------------------------\n",
    "    #-----------------------------------------------------------------------------\n",
    "    d=[]\n",
    "    for i in range(int(len(P)/2)):\n",
    "        k=np.random.randint(len(P),size=2).tolist()\n",
    "        a=P[k[0]]\n",
    "        b=P[k[1]]\n",
    "        h1=alpha*np.array(a) + (1-alpha)*np.array(b)\n",
    "        h2=alpha*np.array(b)+(1-alpha)*np.array(a)\n",
    "        d.append(h1.tolist())\n",
    "        d.append(h2.tolist())\n",
    "    # Now we have new population d instead of P after crossover\n",
    "    #-------------------------------------------------------------------------------\n",
    "    #-------------------------------Mutation----------------------------------------\n",
    "    #-------------------------------------------------------------------------------\n",
    "    mut_pop=np.unique(np.random.randint(0,len(d),int(len(d)/2))).tolist()\n",
    "    for i in range(len(mut_pop)):\n",
    "        r=np.random.rand()\n",
    "        l=np.random.randint(0,var)\n",
    "        if r >=0.5:\n",
    "            d[mut_pop[i]][l]=d[mut_pop[i]][l]+delta(t,XU-d[mut_pop[i]][l],iterations)\n",
    "        else:\n",
    "            d[mut_pop[i]][l]=d[mut_pop[i]][l]-delta(t,d[mut_pop[i]][l]-XL,iterations)\n",
    "    ini_pop=d\n",
    "    "
   ]
  },
  {
   "cell_type": "code",
   "execution_count": 116,
   "metadata": {},
   "outputs": [],
   "source": [
    "fitness=[]\n",
    "for i in d:\n",
    "    fitness.append(fun(i))\n",
    "k=np.argsort(fitness).tolist()"
   ]
  },
  {
   "cell_type": "code",
   "execution_count": 117,
   "metadata": {},
   "outputs": [
    {
     "name": "stdout",
     "output_type": "stream",
     "text": [
      "The function minimizes at  x,y =  [0.9999948563040191, 0.99998820686914]\n",
      "The function minimum value is : 2.8724937650716562e-11\n"
     ]
    }
   ],
   "source": [
    "print(\"The function minimizes at  x,y = \", d[k[0]])\n",
    "print(\"The function minimum value is :\", fun(d[k[0]]))"
   ]
  },
  {
   "cell_type": "code",
   "execution_count": null,
   "metadata": {},
   "outputs": [],
   "source": []
  }
 ],
 "metadata": {
  "kernelspec": {
   "display_name": "Python 3",
   "language": "python",
   "name": "python3"
  },
  "language_info": {
   "codemirror_mode": {
    "name": "ipython",
    "version": 3
   },
   "file_extension": ".py",
   "mimetype": "text/x-python",
   "name": "python",
   "nbconvert_exporter": "python",
   "pygments_lexer": "ipython3",
   "version": "3.7.1"
  }
 },
 "nbformat": 4,
 "nbformat_minor": 2
}
